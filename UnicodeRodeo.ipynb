{
 "metadata": {
  "language_info": {
   "codemirror_mode": {
    "name": "ipython",
    "version": 3
   },
   "file_extension": ".py",
   "mimetype": "text/x-python",
   "name": "python",
   "nbconvert_exporter": "python",
   "pygments_lexer": "ipython3",
   "version": "3.9.0-final"
  },
  "orig_nbformat": 2,
  "kernelspec": {
   "name": "python3",
   "display_name": "Python 3.9.0 64-bit",
   "metadata": {
    "interpreter": {
     "hash": "aee8b7b246df8f9039afb4144a1f6fd8d2ca17a180786b69acc140d282b71a49"
    }
   }
  }
 },
 "nbformat": 4,
 "nbformat_minor": 2,
 "cells": [
  {
   "source": [
    "# UNICODE RODEO\n",
    "## A Short Introductory Adventure with Unicode\n",
    "Designed for those who may be working with multiple alphabets or character sets in python. "
   ],
   "cell_type": "markdown",
   "metadata": {}
  },
  {
   "source": [
    "## The Basics of Characters and Bytes\n",
    "\n",
    "Character information is stored in bytes. Each character takes up one or two bytes, depending on how its stored. There are a number of different systems for storing information about text. \n",
    "\n",
    "You may be familiar with ASCII art: https://www.asciiart.eu/\n",
    "\n",
    "*ASCII* stands for American Standard Code for Information Interchange, but that's not super important. It's an old school way of encoding character information from the days of telegraphs. It only deals with 128 characters, which is not enough! Now, Unicode is dominant since it's a much more versatile system of encoding text. \n",
    "\n",
    "When saving character information, it's at some point encoded, or turned into a format that's more useful for the computer. Python gives us a number of useful functions for this. Let's try out the encode() function. "
   ],
   "cell_type": "markdown",
   "metadata": {}
  },
  {
   "source": [
    "text1 = \"oboe\"\n",
    "print(text1, len(text1)) # prints the string and it's length in bytes\n",
    "enc_1 = text1.encode('ascii') # encodes the string in ascii\n",
    "print(enc_1, len(enc_1)) # prints the string and it's length in bytes"
   ],
   "cell_type": "code",
   "metadata": {},
   "execution_count": 13,
   "outputs": [
    {
     "output_type": "stream",
     "name": "stdout",
     "text": [
      "oboe 4\nb'oboe' 4\n"
     ]
    }
   ]
  },
  {
   "source": [
    "Great. It gives us the byte information. But it's not very interesting. Let's try something better. "
   ],
   "cell_type": "markdown",
   "metadata": {}
  },
  {
   "cell_type": "code",
   "execution_count": 4,
   "metadata": {},
   "outputs": [
    {
     "output_type": "stream",
     "name": "stdout",
     "text": [
      "türkçe 6\n"
     ]
    },
    {
     "output_type": "error",
     "ename": "UnicodeEncodeError",
     "evalue": "'ascii' codec can't encode character '\\xfc' in position 1: ordinal not in range(128)",
     "traceback": [
      "\u001b[0;31m---------------------------------------------------------------------------\u001b[0m",
      "\u001b[0;31mUnicodeEncodeError\u001b[0m                        Traceback (most recent call last)",
      "\u001b[0;32m<ipython-input-4-2060f709ea6d>\u001b[0m in \u001b[0;36m<module>\u001b[0;34m\u001b[0m\n\u001b[1;32m      1\u001b[0m \u001b[0mtext2\u001b[0m \u001b[0;34m=\u001b[0m \u001b[0;34m\"türkçe\"\u001b[0m\u001b[0;34m\u001b[0m\u001b[0;34m\u001b[0m\u001b[0m\n\u001b[1;32m      2\u001b[0m \u001b[0mprint\u001b[0m\u001b[0;34m(\u001b[0m\u001b[0mtext2\u001b[0m\u001b[0;34m,\u001b[0m \u001b[0mlen\u001b[0m\u001b[0;34m(\u001b[0m\u001b[0mtext2\u001b[0m\u001b[0;34m)\u001b[0m\u001b[0;34m)\u001b[0m\u001b[0;34m\u001b[0m\u001b[0;34m\u001b[0m\u001b[0m\n\u001b[0;32m----> 3\u001b[0;31m \u001b[0menc_2\u001b[0m \u001b[0;34m=\u001b[0m \u001b[0mtext2\u001b[0m\u001b[0;34m.\u001b[0m\u001b[0mencode\u001b[0m\u001b[0;34m(\u001b[0m\u001b[0;34m'ascii'\u001b[0m\u001b[0;34m)\u001b[0m\u001b[0;34m\u001b[0m\u001b[0;34m\u001b[0m\u001b[0m\n\u001b[0m\u001b[1;32m      4\u001b[0m \u001b[0mprint\u001b[0m\u001b[0;34m(\u001b[0m\u001b[0menc_2\u001b[0m\u001b[0;34m,\u001b[0m \u001b[0mlen\u001b[0m\u001b[0;34m(\u001b[0m\u001b[0menc_2\u001b[0m\u001b[0;34m)\u001b[0m\u001b[0;34m)\u001b[0m\u001b[0;34m\u001b[0m\u001b[0;34m\u001b[0m\u001b[0m\n",
      "\u001b[0;31mUnicodeEncodeError\u001b[0m: 'ascii' codec can't encode character '\\xfc' in position 1: ordinal not in range(128)"
     ]
    }
   ],
   "source": [
    "tr_text = \"türkçe\"\n",
    "print(tr_text, len(tr_text))\n",
    "enc_tr = tr_text.encode('utf-8') # encodes the string in utf-8\n",
    "print(enc_tr, len(enc_tr)) \n"
   ]
  },
  {
   "source": [
    "Well that's a problem. It looks like ASCII wasn't up to the task of encoding all these characters, and generated a Unicode Encode Error. Luckily, we can fix this. \n",
    "\n",
    "## Unicode\n",
    "\n",
    "Unicode is a widely adoped standard for encoding lots of characters on the web.\n",
    "And Unicode's website here: https://home.unicode.org/\n",
    "Unicode consists of a 'code point' for each character, a unique idenitifying number that can be used to reference it and go get more infromation about characters. For example: \"U+0041\" is the code point for an uppercase \"A\". Another example is 'U+1f647', which is an emoji. Characters of the same alphabet typically fall into a similar unicode code point range. Check out the database here: https://www.unicode.org/ucd/\n",
    "\n",
    "### UTF-8\n",
    "\n",
    "UTF-8 is the most common character encoding. It uses 1 byte for character for the 128 characters defined by ASCII commonly used in english language text, and between 2 and 4 for all others. That makes it fastest for a lot of latin based languages. \n",
    "Let's try that for our turkish text. \n"
   ],
   "cell_type": "markdown",
   "metadata": {}
  },
  {
   "cell_type": "code",
   "execution_count": 7,
   "metadata": {},
   "outputs": [
    {
     "output_type": "stream",
     "name": "stdout",
     "text": [
      "türkçe 6\nb't\\xc3\\xbcrk\\xc3\\xa7e' 8\n"
     ]
    }
   ],
   "source": [
    "tr_text = \"türkçe\"\n",
    "print(tr_text, len(tr_text), \"characters long unencoded\") \n",
    "enc_tr = tr_text.encode('utf-8') \n",
    "print(enc_tr, len(enc_tr), \"bytes long in utf-8 encoding\") "
   ]
  },
  {
   "source": [
    "Great. It's encoded our problem characters, and only added 2 bytes to our total byte useage.\n",
    "Look at how the encoding takes place at the special characters. \n",
    "\n",
    "You might notice that this doesn't look like a Unicode code point - that's because it's an encoded version. If you want to find out the code point, you can use the ord() function to get a code point, and the chr() function to turn it back to a character. "
   ],
   "cell_type": "markdown",
   "metadata": {}
  },
  {
   "cell_type": "code",
   "execution_count": 7,
   "metadata": {},
   "outputs": [
    {
     "output_type": "stream",
     "name": "stdout",
     "text": [
      "65 is the code point for 'ü'\nA is the character for code point 65\n"
     ]
    }
   ],
   "source": [
    "code_point = ord('A')\n",
    "print(code_point, \"is the code point for 'ü'\")\n",
    "character = chr(code_point)\n",
    "print(character, f\"is the character for code point {code_point}\")"
   ]
  },
  {
   "source": [
    "But what about other Unicode encodings? \n",
    "\n",
    "### UTF-16\n",
    "\n",
    "UTF-16 uses 2 bytes for most characters, with 4 used for some others.  If you're interested in more details on the finer points of unicode encoding, check out: https://medium.com/swlh/what-is-utf-16-63755027eb29\n",
    "\n",
    "\n",
    "### UTF-32 \n",
    "\n",
    "UTF-32 uses 4 bytes for all characters, and is not widely used because of how much space it takes up. \n",
    "\n",
    "Let's try these out on some text."
   ],
   "cell_type": "markdown",
   "metadata": {}
  },
  {
   "cell_type": "code",
   "execution_count": 11,
   "metadata": {},
   "outputs": [
    {
     "output_type": "stream",
     "name": "stdout",
     "text": [
      "الصقر 5\nb'\\xd8\\xa7\\xd9\\x84\\xd8\\xb5\\xd9\\x82\\xd8\\xb1' 10 bytes long in utf-8\nb\"\\xff\\xfe'\\x06D\\x065\\x06B\\x061\\x06\" 12 bytes long in utf-16\n\n\n"
     ]
    }
   ],
   "source": [
    "text_ar = \"الصقر\"\n",
    "print(text_ar, len(text_ar), '5 character arabic text')\n",
    "enc_ar = text_ar.encode('utf8') # note that it still works without the hyphen\n",
    "print(enc_ar, len(enc_ar), 'bytes long in utf-8')\n",
    "\n",
    "enc_ar_2 = text_ar.encode('utf-16')\n",
    "# contains 10 bytes for 5 chars\n",
    "print(enc_ar_2, len(enc_ar_2), 'bytes long in utf-16')\n",
    "print(\"\\n\")"
   ]
  },
  {
   "source": [
    "As you can see, UTF-8 seems to be the better choice for encoding Arabic and similar alphabets. \n",
    "What about Korean?"
   ],
   "cell_type": "code",
   "metadata": {},
   "execution_count": null,
   "outputs": []
  },
  {
   "cell_type": "code",
   "execution_count": 16,
   "metadata": {},
   "outputs": [
    {
     "output_type": "stream",
     "name": "stdout",
     "text": [
      "안녕하세요 5 5 character Korean text\nb'\\xec\\x95\\x88\\xeb\\x85\\x95\\xed\\x95\\x98\\xec\\x84\\xb8\\xec\\x9a\\x94' 15 bytes long in utf-8\n\n\nb'\\xff\\xfeH\\xc5U\\xb1X\\xd58\\xc1\\x94\\xc6' 12 bytes long in utf-16\n\n\nb'\\xff\\xfe\\x00\\x00H\\xc5\\x00\\x00U\\xb1\\x00\\x00X\\xd5\\x00\\x008\\xc1\\x00\\x00\\x94\\xc6\\x00\\x00' 24 bytes long in utf-32\n\n"
     ]
    }
   ],
   "source": [
    "kr_text = \"안녕하세요\"\n",
    "print(kr_text , len(kr_text), '5 character Korean text')\n",
    "enc_kr = kr_text.encode('utf-8')\n",
    "print(enc_kr, len(enc_kr), 'bytes long in utf-8')\n",
    "print(\"\\n\")\n",
    "\n",
    "enc_kr_2 = kr_text.encode('utf-16')\n",
    "print(enc_kr_2, len(enc_kr_2), 'bytes long in utf-16')\n",
    "print(\"\\n\")\n",
    "\n",
    "enc_kr_3 = kr_text.encode('utf-32')\n",
    "print(enc_kr_3, len(enc_kr_3), 'bytes long in utf-32\\n')\n"
   ]
  },
  {
   "source": [
    "As you can see, UTF-16 would be your best choice for encoding a significant amount of Korean Text.\n",
    "\n",
    "\n",
    "Thank you for coming to my Unicode Rodeo! \n",
    "\n",
    "If you want to see an appliction of Unicode code points, I made a project a while ago that looks at the first letter of a string to determine the code point. If the code point falls into the arabic range, it applies a right-to-left filter. \n",
    "You can see it here: https://github.com/AeronRoemer/Employee-Directory-Display"
   ],
   "cell_type": "code",
   "metadata": {},
   "execution_count": null,
   "outputs": []
  }
 ]
}